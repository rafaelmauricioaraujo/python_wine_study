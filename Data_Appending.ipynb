{
 "cells": [
  {
   "cell_type": "markdown",
   "metadata": {},
   "source": [
    "# Anexando dados\n",
    "Primeiro, importe de pacotes necessários e carregamento os arquivos `winequality-red.csv` e `winequality-white.csv`."
   ]
  },
  {
   "cell_type": "code",
   "execution_count": 2,
   "metadata": {},
   "outputs": [],
   "source": [
    "# importe o numpy e o pandas\n",
    "import pandas as pd\n",
    "import numpy as np\n",
    "\n",
    "\n",
    "# carregue os conjuntos de dados de vinhos tintos e brancos\n",
    "red_df = pd.read_csv('winequality-red.csv')\n",
    "white_df = pd.read_csv('winequality-white.csv')\n"
   ]
  },
  {
   "cell_type": "markdown",
   "metadata": {},
   "source": [
    "## Criando colunas de cor\n",
    "Criando dois vetores de tamanho igual ao número de linhas nos dataframes tinto e branco que repetem o valor “red” or “white”. O NumPy oferece uma forma bem fácil de fazer isso. Aqui está a documentação para a função [repeat do NumPy](https://docs.scipy.org/doc/numpy/reference/generated/numpy.repeat.html)."
   ]
  },
  {
   "cell_type": "code",
   "execution_count": null,
   "metadata": {},
   "outputs": [],
   "source": [
    "# vetor de cor para o dataframe tinto\n",
    "color_red = \n",
    "\n",
    "# vetor de cor para o dataframe branco\n",
    "color_white = "
   ]
  }
 ],
 "metadata": {
  "kernelspec": {
   "display_name": "Python 3",
   "language": "python",
   "name": "python3"
  },
  "language_info": {
   "codemirror_mode": {
    "name": "ipython",
    "version": 3
   },
   "file_extension": ".py",
   "mimetype": "text/x-python",
   "name": "python",
   "nbconvert_exporter": "python",
   "pygments_lexer": "ipython3",
   "version": "3.7.1"
  }
 },
 "nbformat": 4,
 "nbformat_minor": 2
}
